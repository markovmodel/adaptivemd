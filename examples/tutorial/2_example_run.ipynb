{
 "cells": [
  {
   "cell_type": "markdown",
   "metadata": {},
   "source": [
    "## Example 2 - The Tasks"
   ]
  },
  {
   "cell_type": "markdown",
   "metadata": {},
   "source": [
    "### Imports"
   ]
  },
  {
   "cell_type": "code",
   "execution_count": 1,
   "metadata": {
    "collapsed": true
   },
   "outputs": [],
   "source": [
    "import sys, os"
   ]
  },
  {
   "cell_type": "code",
   "execution_count": 2,
   "metadata": {
    "collapsed": false
   },
   "outputs": [],
   "source": [
    "from adaptivemd import Project, Trajectory"
   ]
  },
  {
   "cell_type": "markdown",
   "metadata": {},
   "source": [
    "Let's open our `test` project by its name. If you completed the previous example this should all work out of the box."
   ]
  },
  {
   "cell_type": "code",
   "execution_count": 3,
   "metadata": {
    "collapsed": false
   },
   "outputs": [],
   "source": [
    "project = Project('tutorial')"
   ]
  },
  {
   "cell_type": "markdown",
   "metadata": {},
   "source": [
    "Open all connections to the `MongoDB` and `Session` so we can get started."
   ]
  },
  {
   "cell_type": "markdown",
   "metadata": {},
   "source": [
    "Let's see where we are. These numbers will depend on whether you run this notebook for the first time or just continue again. Unless you delete your project it will accumulate models and files over time, as is our ultimate goal."
   ]
  },
  {
   "cell_type": "code",
   "execution_count": 4,
   "metadata": {
    "collapsed": false
   },
   "outputs": [
    {
     "name": "stdout",
     "output_type": "stream",
     "text": [
      "<StoredBundle for with 1 file(s) @ 0x10949f5d0>\n",
      "<ViewBundle for with 0 file(s) @ 0x10949f710>\n",
      "<StoredBundle for with 0 file(s) @ 0x10949f510>\n"
     ]
    }
   ],
   "source": [
    "print project.tasks\n",
    "\n",
    "print project.trajectories\n",
    "print project.models"
   ]
  },
  {
   "cell_type": "markdown",
   "metadata": {},
   "source": [
    "Now restore our old ways to generate tasks by loading the previously used generators."
   ]
  },
  {
   "cell_type": "code",
   "execution_count": 5,
   "metadata": {
    "collapsed": false
   },
   "outputs": [],
   "source": [
    "engine = project.generators['openmm']\n",
    "modeller = project.generators['pyemma']\n",
    "pdb_file = project.files['initial_pdb']"
   ]
  },
  {
   "cell_type": "markdown",
   "metadata": {},
   "source": [
    "Remember that we stored some files in the database and of course you can look at them again, should that be important."
   ]
  },
  {
   "cell_type": "code",
   "execution_count": 7,
   "metadata": {
    "collapsed": false
   },
   "outputs": [
    {
     "name": "stdout",
     "output_type": "stream",
     "text": [
      "REMARK   1 CREATED WITH MDTraj 1.8.0, 2016-12-22\n",
      "CRYST1   26.063   26.063   26.063  90.00  90.00  90.00 P 1           1 \n",
      "MODEL        0\n",
      "ATOM      1  H1  ACE A   1      -1.900   1.555  26.235  1.00  0.00          H   \n",
      "ATOM      2  CH3 ACE A   1      -1.101   2.011  25.651  1.00  0.00          C   \n",
      "ATOM      3  H2  ACE A   1      -0.850   2.954  26.137  1.00  0.00          H   \n",
      "ATOM      4  H3  ACE A   1      -1.365   2.132  24.600  1.00  0.00          H   \n",
      "ATOM      5  C   ACE A   1       0.182   1.186  25.767  1.00  0.00          C   \n",
      "ATOM      6  O   ACE A   1       1.089   1.407  26.645  1.00  0.00          O   \n",
      "ATOM      7  N   ALA A   2       0.302   0.256  24.807  1.00  0.00          N   \n",
      "ATOM      8  H   ALA A   2      -0.588   0.102  24.354  1.00  0.00          H   \n",
      "ATOM      9  CA  ALA A   2       1.498  -0.651  24.567  1.00  0.00          C   \n",
      "ATOM     10  HA  ALA A   2       1.810  -0.944  25.570  1.00  0.00          H   \n",
      "ATOM     11  CB  ALA A   2       1.054  -1.959  23.852 [...]\n"
     ]
    }
   ],
   "source": [
    "print pdb_file.get_file()[:1000] + ' [...]'"
   ]
  },
  {
   "cell_type": "markdown",
   "metadata": {},
   "source": [
    "### The `Trajectory` object"
   ]
  },
  {
   "cell_type": "markdown",
   "metadata": {},
   "source": [
    "Before we talk about adaptivity, let's have a look at possibilities to generate trajectories.\n",
    "\n",
    "We assume that you successfully ran a first trajectory using a worker. Next, we talk about lot's of ways to generate new trajectories."
   ]
  },
  {
   "cell_type": "markdown",
   "metadata": {},
   "source": [
    "#### Trajectories from a pdb\n",
    "\n",
    "You will do this in the beginning. Remember we already have a PDB stored from setting up the engine. if you want to start from this configuration do as before\n",
    "\n",
    "1. create the `Trajectory` object you want\n",
    "2. make a task\n",
    "3. submit the task to craft the object into existance on the HPC"
   ]
  },
  {
   "cell_type": "markdown",
   "metadata": {},
   "source": [
    "A trajectory contains all necessary information to make itself. It has \n",
    "\n",
    "1. a (hopefully unique) location: This will we the folder where all the files that belong to the trajectory go.\n",
    "2. an initial frame: the initial configuration to be used to tell the MD simulation package where to start\n",
    "3. a length in frames to run\n",
    "4. the `Engine`: the actual engine I want to use to create the trajectory. \n",
    "\n",
    "Note, the `Engine` is technically not required unless you want to use `.run()` but it makes sense, because the engine contains information about the topology and, more importantly information about which output files are generated. This is the essential information you will need for analysis, e.g. what is the filename of the trajectory file that contains the protein structure and what is its stride?"
   ]
  },
  {
   "cell_type": "markdown",
   "metadata": {},
   "source": [
    "Let's first build a `Trajectory` from scratch"
   ]
  },
  {
   "cell_type": "code",
   "execution_count": 8,
   "metadata": {
    "collapsed": false
   },
   "outputs": [],
   "source": [
    "file_name = next(project.traj_name)              # get a unique new filename \n",
    "\n",
    "trajectory = Trajectory(\n",
    "    location=file_name,                          # this creates a new filename\n",
    "    frame=pdb_file,                              # initial frame is the PDB\n",
    "    length=100,                                  # length is 100 frames\n",
    "    engine=engine                                # the engine to be used\n",
    ")"
   ]
  },
  {
   "cell_type": "markdown",
   "metadata": {},
   "source": [
    "Since this is tedious to write there is a shortcut"
   ]
  },
  {
   "cell_type": "code",
   "execution_count": 9,
   "metadata": {
    "collapsed": true
   },
   "outputs": [],
   "source": [
    "trajectory = project.new_trajectory(\n",
    "    frame=pdb_file,\n",
    "    length=100,\n",
    "    engine=engine,\n",
    "    number=1          # if more then one you get a list of trajectories\n",
    ")"
   ]
  },
  {
   "cell_type": "markdown",
   "metadata": {},
   "source": [
    "Like in the first example, now that we have the parameters of the `Trajectory` we can create the task to do that."
   ]
  },
  {
   "cell_type": "markdown",
   "metadata": {},
   "source": [
    "### The `Task` object"
   ]
  },
  {
   "cell_type": "markdown",
   "metadata": {},
   "source": [
    "First, an example"
   ]
  },
  {
   "cell_type": "code",
   "execution_count": 13,
   "metadata": {
    "collapsed": false
   },
   "outputs": [],
   "source": [
    "task_run = engine.run(trajectory)"
   ]
  },
  {
   "cell_type": "markdown",
   "metadata": {},
   "source": [
    "This was easy, but we can do some interesting stuff. Since we know the trajectory will exist now we can also extend by some frames. Remember, the trajectory does not really exist yet (not until we submit it and a worker executes it), but we can pretend that it does, since it's relevant propertier are set."
   ]
  },
  {
   "cell_type": "code",
   "execution_count": 14,
   "metadata": {
    "collapsed": false
   },
   "outputs": [],
   "source": [
    "task_extend = engine.extend(trajectory, 50)"
   ]
  },
  {
   "cell_type": "markdown",
   "metadata": {},
   "source": [
    "The only problem is to make sure the tasks are run in the correct order. This would not be a problem if the worker will run tasks in the order they are place in the queue, but that defeats the purpose of parallel runs. Therefore an extended tasks knows that is depends on the existance of the source trajectory. The worker will hence only run a trajectory, once the source exists."
   ]
  },
  {
   "cell_type": "markdown",
   "metadata": {},
   "source": [
    "#### A queueing system ?"
   ]
  },
  {
   "cell_type": "markdown",
   "metadata": {},
   "source": [
    "We might wonder at this point how we manage to construct the dependency graph between all tasks and how this is handled and optimized, etc... \n",
    "\n",
    "Well, we don't. There is no dependency graph, at least not explicitely. All we do, is to check at a time among all task that _should_ be run, which of there _can_ be run. And this is easy to check, all dependent tasks need to be completed and must have succeeded. Then we can rely on their (the dependencies) results to exists and it makes sense to continue."
   ]
  },
  {
   "cell_type": "markdown",
   "metadata": {},
   "source": [
    "A real dependency graph would go even further and know about all future relations and you could identify bottleneck\n",
    "tasks which are necessary to allow other tasks to be run. We don't do that (yet). It could improve performance in the sense that you will run at optimal load balance and keep all workers as busy as possible. Consider our a attempt a first order dependency graph."
   ]
  },
  {
   "cell_type": "code",
   "execution_count": 15,
   "metadata": {
    "collapsed": false
   },
   "outputs": [],
   "source": [
    "project.queue(task_run, task_extend)"
   ]
  },
  {
   "cell_type": "markdown",
   "metadata": {},
   "source": [
    "#### A not on simulation length"
   ]
  },
  {
   "cell_type": "markdown",
   "metadata": {},
   "source": [
    "Remember that we allow an engine to output multiple trajectory types with freely chosen strides? This could leave to trouble. Imagine this (unrealistic) situation: \n",
    "\n",
    "We have\n",
    "1. full trajectory with `stride=10`\n",
    "2. a reduced protein-only trajectory with `stride=7`\n",
    "\n",
    "Now run a trajectory of `length=300`.\n",
    "We get \n",
    "\n",
    "1. 30+1 full (+1 for the initial frame) and\n",
    "2. 42+1 protein frames\n",
    "\n",
    "That per se is no problem, but if you want to extend we only have a restart file for the very last frame and while this works for the full trajectory, for the protein trajectory you are 6 frames short. Just continuing and concatenating the two leads to a gap of 6+7=13 frames instead of 7. A small big potentially significant source of error."
   ]
  },
  {
   "cell_type": "markdown",
   "metadata": {},
   "source": [
    "So, compute the least common multiple of all strides using"
   ]
  },
  {
   "cell_type": "code",
   "execution_count": 16,
   "metadata": {
    "collapsed": false
   },
   "outputs": [
    {
     "data": {
      "text/plain": [
       "10"
      ]
     },
     "execution_count": 16,
     "metadata": {},
     "output_type": "execute_result"
    }
   ],
   "source": [
    "engine.native_stride"
   ]
  },
  {
   "cell_type": "markdown",
   "metadata": {},
   "source": [
    "#### simpler function calls"
   ]
  },
  {
   "cell_type": "markdown",
   "metadata": {},
   "source": [
    "There is also a shorter way of writing this"
   ]
  },
  {
   "cell_type": "code",
   "execution_count": 17,
   "metadata": {
    "collapsed": true
   },
   "outputs": [],
   "source": [
    "# task = trajectory.run().extend(50)"
   ]
  },
  {
   "cell_type": "markdown",
   "metadata": {},
   "source": [
    "This will create two tasks that first runs the trajectory and then extend it by 50 frames (in native engine frames)"
   ]
  },
  {
   "cell_type": "markdown",
   "metadata": {},
   "source": [
    "If you want to do that several times, you can pass a list of ints which is a shortcut for calling `.extend(l1).extend(l2). ...`"
   ]
  },
  {
   "cell_type": "code",
   "execution_count": 18,
   "metadata": {
    "collapsed": true
   },
   "outputs": [],
   "source": [
    "# task = trajectory.run().extend([10] * 10)"
   ]
  },
  {
   "cell_type": "markdown",
   "metadata": {},
   "source": [
    "This will create 10! tasks that eacht will extend the previous one. Each of the task requires the previous one to finish, this way the dependency is preserved. You can use this to mimick using several restarts in between and it also means that you have no idea which worker will actually start and which worker will continue or finish a trajectory."
   ]
  },
  {
   "cell_type": "markdown",
   "metadata": {},
   "source": [
    "### Checking the results"
   ]
  },
  {
   "cell_type": "markdown",
   "metadata": {},
   "source": [
    "For a seconds let's see if everything went fine."
   ]
  },
  {
   "cell_type": "code",
   "execution_count": 60,
   "metadata": {
    "collapsed": false
   },
   "outputs": [
    {
     "name": "stdout",
     "output_type": "stream",
     "text": [
      "sandbox:///{}/00000000/ 150\n",
      "sandbox:///{}/00000003/ 100\n",
      "sandbox:///{}/00000005/ 100\n",
      "sandbox:///{}/00000006/ 100\n",
      "sandbox:///{}/00000007/ 100\n",
      "sandbox:///{}/00000008/ 100\n",
      "sandbox:///{}/00000009/ 100\n"
     ]
    }
   ],
   "source": [
    "for t in project.trajectories:\n",
    "    print t.short, t.length"
   ]
  },
  {
   "cell_type": "markdown",
   "metadata": {},
   "source": [
    "If this works, then you should see one 100 frame trajectory from the setup (first example) and a second 150 length trajectory that we just generated by running 100 frames and extending it by another 50.\n",
    "\n",
    "If not, there might be a problem or (more likely) the tasks are not finished yet. Just try the above cell again and see if it changes to the expected output."
   ]
  },
  {
   "cell_type": "markdown",
   "metadata": {},
   "source": [
    "`project.trajectories` will show you _only_ existing trajectories. Not ones, that are planned or have been extended. If you want to see all the ones already in the project, you can look at `project.files`. Which is a bundle and bundles can be filtered. But first all files"
   ]
  },
  {
   "cell_type": "code",
   "execution_count": 63,
   "metadata": {
    "collapsed": false
   },
   "outputs": [
    {
     "name": "stdout",
     "output_type": "stream",
     "text": [
      "file:///Users/jan-hendrikprinz/Studium/git/adaptivemd/adaptivemd/scripts/_run_.py\n",
      "file:///Users/jan-hendrikprinz/Studium/git/adaptivemd/adaptivemd/engine/openmm/openmmrun.py\n",
      "file:///Users/jan-hendrikprinz/Studium/git/adaptivemd/examples/files/alanine/alanine.pdb\n",
      "file:///Users/jan-hendrikprinz/Studium/git/adaptivemd/examples/files/alanine/system.xml\n",
      "file:///Users/jan-hendrikprinz/Studium/git/adaptivemd/examples/files/alanine/integrator.xml\n",
      "sandbox:///projects/tutorial/trajs/00000000/\n",
      "sandbox:///projects/tutorial/trajs/00000000/\n",
      "sandbox:///projects/tutorial/trajs/00000001/\n",
      "sandbox:///projects/tutorial/trajs/00000002/\n",
      "sandbox:///projects/tutorial/trajs/00000003/\n",
      "sandbox:///projects/tutorial/trajs/00000005/\n",
      "file:///Users/jan-hendrikprinz/Studium/git/adaptivemd/examples/tutorial/_rpc_input_0x43a0c8dc148311e7acff0000000001a0L.json\n",
      "file:///Users/jan-hendrikprinz/Studium/git/adaptivemd/adaptivemd/scripts/_run_.py\n",
      "file:///Users/jan-hendrikprinz/Studium/git/adaptivemd/examples/tutorial/_rpc_output_0x43a0c8dc148311e7acff0000000001a0L.json\n",
      "project:///models/model.0x43a0c8dc148311e7acff0000000001a0L.json\n",
      "sandbox:///projects/tutorial/trajs/00000006/\n",
      "sandbox:///projects/tutorial/trajs/00000007/\n",
      "sandbox:///projects/tutorial/trajs/00000008/\n",
      "sandbox:///projects/tutorial/trajs/00000009/\n"
     ]
    }
   ],
   "source": [
    "for f in project.files:\n",
    "    print f"
   ]
  },
  {
   "cell_type": "markdown",
   "metadata": {},
   "source": [
    "Now all files filtered by [c]lass `Trajectory`. `DT` is a little helper to convert time stamps into something readable."
   ]
  },
  {
   "cell_type": "code",
   "execution_count": 66,
   "metadata": {
    "collapsed": true
   },
   "outputs": [],
   "source": [
    "from adaptivemd import DT"
   ]
  },
  {
   "cell_type": "code",
   "execution_count": 75,
   "metadata": {
    "collapsed": false
   },
   "outputs": [
    {
     "name": "stdout",
     "output_type": "stream",
     "text": [
      "sandbox:///{}/00000000/ 100 modified @ 2017-03-29 15:57:38\n",
      "sandbox:///{}/00000000/ 150 created  @ 2017-03-29 15:57:38\n",
      "sandbox:///{}/00000001/ 100 not existent\n",
      "sandbox:///{}/00000002/ 100 not existent\n",
      "sandbox:///{}/00000003/ 100 created  @ 2017-03-29 15:58:55\n",
      "sandbox:///{}/00000005/ 100 created  @ 2017-03-29 15:59:59\n",
      "sandbox:///{}/00000006/ 100 created  @ 2017-03-29 16:01:27\n",
      "sandbox:///{}/00000007/ 100 created  @ 2017-03-29 16:01:33\n",
      "sandbox:///{}/00000008/ 100 created  @ 2017-03-29 16:01:39\n",
      "sandbox:///{}/00000009/ 100 created  @ 2017-03-29 16:01:45\n"
     ]
    }
   ],
   "source": [
    "for t in project.files.c(Trajectory):\n",
    "    print t.short, t.length, \n",
    "    if t.created:\n",
    "        if t.created > 0:\n",
    "            print 'created  @ %s' % DT(t.created)\n",
    "        else:\n",
    "            print 'modified @ %s' % DT(-t.created)\n",
    "    else:\n",
    "        print 'not existent'"
   ]
  },
  {
   "cell_type": "markdown",
   "metadata": {},
   "source": [
    "You see, that the extended trajecory appears twice once with length 100 and once with length 150. This is correct, because at the idea of a 100 frame trajectory was used and hence is saved. But why does this one not appear in the list of trajectories. It was created first and had a timestamp of creation written to `.created`. This is the time when the worker finishes and was successful. \n",
    "\n",
    "At the same time, all files that are overwritten, are marked as modified by setting a negative timestamp. So if \n",
    "\n",
    "1. `.created is None`, the file does not exist nor has it.  \n",
    "2. `.created > 0`, the file exists\n",
    "3. `.created < 0`, the file existed but has been overwritten\n",
    "\n",
    "Finally, all `project.trajectories` are files of type `Trajectory` with positive `created` index."
   ]
  },
  {
   "cell_type": "markdown",
   "metadata": {},
   "source": [
    "### Dealing with errors"
   ]
  },
  {
   "cell_type": "markdown",
   "metadata": {},
   "source": [
    "Let's do something stupid and produce an error by using a wrong initial pdb file."
   ]
  },
  {
   "cell_type": "code",
   "execution_count": 26,
   "metadata": {
    "collapsed": false
   },
   "outputs": [],
   "source": [
    "trajectory = project.new_trajectory(engine['system_file'], 100)\n",
    "task = engine.run(trajectory)\n",
    "project.queue(task)"
   ]
  },
  {
   "cell_type": "markdown",
   "metadata": {},
   "source": [
    "Well, nothing changed obviously and we expect it to fail. So let's inspect what happened."
   ]
  },
  {
   "cell_type": "code",
   "execution_count": 32,
   "metadata": {
    "collapsed": false
   },
   "outputs": [
    {
     "data": {
      "text/plain": [
       "u'fail'"
      ]
     },
     "execution_count": 32,
     "metadata": {},
     "output_type": "execute_result"
    }
   ],
   "source": [
    "task.state"
   ]
  },
  {
   "cell_type": "markdown",
   "metadata": {},
   "source": [
    "You might need to execute this cell several times. It will first become `queued`, then `running` and finally `fail` and stop there. "
   ]
  },
  {
   "cell_type": "markdown",
   "metadata": {},
   "source": [
    "It failed, well, we kind of knew that. No suprise here, but why? Let's look at the stdout and stderr"
   ]
  },
  {
   "cell_type": "code",
   "execution_count": 33,
   "metadata": {
    "collapsed": false
   },
   "outputs": [
    {
     "name": "stdout",
     "output_type": "stream",
     "text": [
      "15:58:14 [worker:3] stdout from running task\n",
      "GO...\n",
      "Reading PDB\n",
      "\n"
     ]
    }
   ],
   "source": [
    "print task.stdout"
   ]
  },
  {
   "cell_type": "code",
   "execution_count": 34,
   "metadata": {
    "collapsed": false
   },
   "outputs": [
    {
     "name": "stdout",
     "output_type": "stream",
     "text": [
      "15:58:14 [worker:3] stderr from running task\n",
      "Traceback (most recent call last):\n",
      "  File \"openmmrun.py\", line 169, in <module>\n",
      "    pdb = PDBFile(args.topology_pdb)\n",
      "  File \"/Users/jan-hendrikprinz/anaconda/lib/python2.7/site-packages/simtk/openmm/app/pdbfile.py\", line 159, in __init__\n",
      "    self.positions = self._positions[0]\n",
      "IndexError: list index out of range\n",
      "\n"
     ]
    }
   ],
   "source": [
    "print task.stderr"
   ]
  },
  {
   "cell_type": "markdown",
   "metadata": {},
   "source": [
    "We see, what we expect. In `openmmrun.py` the openmm executable it could not load the pdb file. \n",
    "\n",
    "> *NOTE* If your worker dies for some reason, it will not set a STDOUT or STDERR. If you think that your task should be able to execute, then you can do `task.state = 'created'` and reset it to be accessible to workers. This is NOT recommended, just to explain how this works. Of course you need a new worker anyway."
   ]
  },
  {
   "cell_type": "markdown",
   "metadata": {},
   "source": [
    "### What else\n",
    "\n",
    "If you have a `Trajectory` object and create the real trajectory file, you can also put the `Trajectory` directly into the queue. This is equivalent to call `.run` on the trajectory and submit the resulting `Task` to the queue. The only downside is that you do not see the task object and cannot directly work with it, check it's status, etc..."
   ]
  },
  {
   "cell_type": "code",
   "execution_count": 76,
   "metadata": {
    "collapsed": false
   },
   "outputs": [],
   "source": [
    "# project.queue(project.new_trajectory(pdb_file, 100, engine).run()) can be called as\n",
    "project.queue(project.new_trajectory(pdb_file, 100, engine))"
   ]
  },
  {
   "cell_type": "markdown",
   "metadata": {},
   "source": [
    "### Trajectories from other trajectories"
   ]
  },
  {
   "cell_type": "markdown",
   "metadata": {},
   "source": [
    "This will be the most common case. At least in any remote kind of adaptivity you will not start always from the same position or extend. You want to pick any exisiting frame and continue from there. So, let's do that."
   ]
  },
  {
   "cell_type": "markdown",
   "metadata": {},
   "source": [
    "First we get a trajectory. Every `Bundle` in the project (e.g. `.trajectories`, `.models`, `.files`, `.tasks`) acts like an enhanced set. You can iterate over all entries as we did before, and you can get one element, which usually is the first stored, but not always. If you are interested in `Bundle`s see the documentation. For now that is enough to know, that a bundle (as a set) has a `.one` function which is short for getting the first object if you iterate. As if you would call `next(project.trajectories)`. Note, that the iterator does not ensure a fixed order. You literally might get any object, if there is at least one."
   ]
  },
  {
   "cell_type": "code",
   "execution_count": 36,
   "metadata": {
    "collapsed": false
   },
   "outputs": [],
   "source": [
    "trajectory = project.trajectories.one"
   ]
  },
  {
   "cell_type": "markdown",
   "metadata": {},
   "source": [
    "Good, at least 100 frames. We pick, say, frame at index 28 (which is the 29th frame, we start counting at zero) using the way you pick an element from a python list (which is almost what a `Trajectory` represents, a list of frames)"
   ]
  },
  {
   "cell_type": "code",
   "execution_count": 38,
   "metadata": {
    "collapsed": false
   },
   "outputs": [
    {
     "name": "stdout",
     "output_type": "stream",
     "text": [
      "Frame(sandbox:///{}/00000000/[28]) False\n"
     ]
    }
   ],
   "source": [
    "frame = trajectory[28]\n",
    "print frame, frame.exists"
   ]
  },
  {
   "cell_type": "code",
   "execution_count": 39,
   "metadata": {
    "collapsed": false
   },
   "outputs": [
    {
     "name": "stdout",
     "output_type": "stream",
     "text": [
      "Frame(sandbox:///{}/00000000/[30]) True\n"
     ]
    }
   ],
   "source": [
    "frame = trajectory[30]\n",
    "print frame, frame.exists"
   ]
  },
  {
   "cell_type": "markdown",
   "metadata": {},
   "source": [
    "This part is important! We are running only one full atom trajectory with stride larger than one, so if we want to pick a frame from this trajectory you can pick in theory every frame, but only some of these really exist. If you want to restart from a frame this needs to be the case. Otherwise you run into trouble."
   ]
  },
  {
   "cell_type": "markdown",
   "metadata": {},
   "source": [
    "To run a trajectory just use the frame as the initial frame."
   ]
  },
  {
   "cell_type": "code",
   "execution_count": 40,
   "metadata": {
    "collapsed": false
   },
   "outputs": [
    {
     "name": "stdout",
     "output_type": "stream",
     "text": [
      "None\n"
     ]
    }
   ],
   "source": [
    "frame = trajectory[28]\n",
    "task = project.new_trajectory(frame, 100, engine).run()\n",
    "print task"
   ]
  },
  {
   "cell_type": "code",
   "execution_count": 41,
   "metadata": {
    "collapsed": false
   },
   "outputs": [
    {
     "name": "stdout",
     "output_type": "stream",
     "text": [
      "<adaptivemd.engine.engine.TrajectoryGenerationTask object at 0x10360f4d0>\n"
     ]
    }
   ],
   "source": [
    "frame = trajectory[30]\n",
    "task = project.new_trajectory(frame, 100, engine).run()\n",
    "print task"
   ]
  },
  {
   "cell_type": "code",
   "execution_count": 42,
   "metadata": {
    "collapsed": false
   },
   "outputs": [
    {
     "name": "stdout",
     "output_type": "stream",
     "text": [
      "Task: TrajectoryGenerationTask(OpenMMEngine) [created]\n",
      "\n",
      "Sources\n",
      "- staging:///integrator.xml \n",
      "- staging:///system.xml \n",
      "- staging:///alanine.pdb \n",
      "- staging:///openmmrun.py \n",
      "- sandbox:///{}/00000000/ [exists]\n",
      "Targets\n",
      "- sandbox:///{}/00000005/\n",
      "Modified\n",
      "\n",
      "<pretask>\n",
      "Link('staging:///alanine.pdb' > 'worker://initial.pdb)\n",
      "Link('staging:///system.xml' > 'worker://system.xml)\n",
      "Link('staging:///integrator.xml' > 'worker://integrator.xml)\n",
      "Link('staging:///openmmrun.py' > 'worker://openmmrun.py)\n",
      "Link('sandbox:///{}/00000000/' > 'worker://source/)\n",
      "mdconvert -o worker://input.pdb -i 3 -t worker://initial.pdb worker://source/master.dcd\n",
      "Touch('worker://traj/')\n",
      "python openmmrun.py -r --report-interval 1 -p CPU --types=\"{'protein':{'stride':1,'selection':'protein','filename':'protein.dcd'},'master':{'stride':10,'selection':null,'filename':'master.dcd'}}\" -t worker://input.pdb --length 100 worker://traj/\n",
      "Move('worker://traj/' > 'sandbox:///{}/00000005/)\n",
      "<posttask>\n"
     ]
    }
   ],
   "source": [
    "print task.description"
   ]
  },
  {
   "cell_type": "markdown",
   "metadata": {},
   "source": [
    "See, how the actual frame picked in the `mdconvert` line is `-i 3` meaning index 3 which represents frame 30 with stride 10.\n",
    "\n",
    "Now, run the task."
   ]
  },
  {
   "cell_type": "code",
   "execution_count": 43,
   "metadata": {
    "collapsed": false
   },
   "outputs": [],
   "source": [
    "project.queue(task)"
   ]
  },
  {
   "cell_type": "markdown",
   "metadata": {},
   "source": [
    "Btw, you can wait until something happens using `project.wait_until(condition)`. This is not so useful in notebooks, but in scripts it does. `condition` here is a function that evaluates to `True` or `False`. it will be tested in regular intervals and once it is `True` the function returns."
   ]
  },
  {
   "cell_type": "code",
   "execution_count": 44,
   "metadata": {
    "collapsed": false
   },
   "outputs": [],
   "source": [
    "project.wait_until(task.is_done)"
   ]
  },
  {
   "cell_type": "code",
   "execution_count": 45,
   "metadata": {
    "collapsed": false
   },
   "outputs": [
    {
     "data": {
      "text/plain": [
       "u'success'"
      ]
     },
     "execution_count": 45,
     "metadata": {},
     "output_type": "execute_result"
    }
   ],
   "source": [
    "task.state"
   ]
  },
  {
   "cell_type": "markdown",
   "metadata": {},
   "source": [
    "Each `Task` has a function `is_done` that you can use. It will return once a task is done. That means it either failed or succeeded or was cancelled. Basically when it is not queued anymore."
   ]
  },
  {
   "cell_type": "markdown",
   "metadata": {},
   "source": [
    "If you want to run adaptively, _all you need to do_ is to figure out where to start new simulations from and use the methods provided to run these."
   ]
  },
  {
   "cell_type": "markdown",
   "metadata": {},
   "source": [
    "### `Model` tasks"
   ]
  },
  {
   "cell_type": "markdown",
   "metadata": {},
   "source": [
    "There are of course other things you can do besides creating new trajectories"
   ]
  },
  {
   "cell_type": "code",
   "execution_count": 46,
   "metadata": {
    "collapsed": true
   },
   "outputs": [],
   "source": [
    "from adaptivemd.analysis.pyemma import PyEMMAAnalysis"
   ]
  },
  {
   "cell_type": "markdown",
   "metadata": {},
   "source": [
    "The instance to compute an MSM model of existing trajectories that you pass it. It is initialized with a `.pdb` file that is used to create features between the $c_\\alpha$ atoms. This implementaton requires a PDB but in general this is not necessay. It is specific to my PyEMMAAnalysis show case."
   ]
  },
  {
   "cell_type": "code",
   "execution_count": 47,
   "metadata": {
    "collapsed": true
   },
   "outputs": [],
   "source": [
    "modeller = PyEMMAAnalysis(\n",
    "    engine=engine,\n",
    "    outtype='protein',\n",
    "    features={'add_inverse_distances': {'select_Backbone': None}}\n",
    ").named('pyemma')"
   ]
  },
  {
   "cell_type": "markdown",
   "metadata": {},
   "source": [
    "Again we name it `pyemma` for later reference."
   ]
  },
  {
   "cell_type": "markdown",
   "metadata": {},
   "source": [
    "The other two option chose which output type from the engine we want to analyse. We chose the protein trajectories since these are faster to load and have better time resolution.\n",
    "\n",
    "The features dict expresses which features to use. In our case use all inverse distances between backbone c_alpha atoms."
   ]
  },
  {
   "cell_type": "markdown",
   "metadata": {},
   "source": [
    "A model generating task work similar to trajectories. You create the generator with options (so far, this will become more complex in the future) and then you create a `Task` from passing it a list of trajectories to be analyzed."
   ]
  },
  {
   "cell_type": "code",
   "execution_count": 48,
   "metadata": {
    "collapsed": false
   },
   "outputs": [],
   "source": [
    "task = modeller.execute(list(project.trajectories))\n",
    "project.queue(task)"
   ]
  },
  {
   "cell_type": "code",
   "execution_count": 49,
   "metadata": {
    "collapsed": true
   },
   "outputs": [],
   "source": [
    "project.wait_until(task.is_done)"
   ]
  },
  {
   "cell_type": "code",
   "execution_count": 52,
   "metadata": {
    "collapsed": false
   },
   "outputs": [
    {
     "name": "stdout",
     "output_type": "stream",
     "text": [
      "<adaptivemd.model.Model object at 0x1036bff50>\n"
     ]
    }
   ],
   "source": [
    "for m in project.models:\n",
    "    print m"
   ]
  },
  {
   "cell_type": "markdown",
   "metadata": {},
   "source": [
    "So we generated one model. The `Model` objects contain (in the base version) only a `.data` attribute which is a dictionary of information about the generated model."
   ]
  },
  {
   "cell_type": "code",
   "execution_count": 53,
   "metadata": {
    "collapsed": false
   },
   "outputs": [],
   "source": [
    "model = project.models.last"
   ]
  },
  {
   "cell_type": "code",
   "execution_count": 54,
   "metadata": {
    "collapsed": false
   },
   "outputs": [
    {
     "name": "stdout",
     "output_type": "stream",
     "text": [
      "[[ 0.84615385  0.          0.          0.07701397  0.07683217]\n",
      " [ 0.          0.94936708  0.02307278  0.02756013  0.        ]\n",
      " [ 0.          0.02591964  0.94047619  0.00963989  0.02396427]\n",
      " [ 0.01328607  0.05096999  0.01586998  0.89333333  0.02654062]\n",
      " [ 0.01433636  0.          0.04267144  0.02870648  0.91428572]]\n"
     ]
    }
   ],
   "source": [
    "print model['msm']['P']"
   ]
  },
  {
   "cell_type": "markdown",
   "metadata": {},
   "source": [
    "### Pick frames automatically"
   ]
  },
  {
   "cell_type": "markdown",
   "metadata": {},
   "source": [
    "The last thing that is implemented is a function that can utilize models to decide which frames are better to start from. The simplest one will use the counts per state, take the inverse and use this as a distribution."
   ]
  },
  {
   "cell_type": "code",
   "execution_count": 55,
   "metadata": {
    "collapsed": false
   },
   "outputs": [
    {
     "data": {
      "text/plain": [
       "[Frame(sandbox:///{}/00000003/[40]),\n",
       " Frame(sandbox:///{}/00000003/[20]),\n",
       " Frame(sandbox:///{}/00000005/[50]),\n",
       " Frame(sandbox:///{}/00000003/[20])]"
      ]
     },
     "execution_count": 55,
     "metadata": {},
     "output_type": "execute_result"
    }
   ],
   "source": [
    "project.find_ml_next_frame(4)"
   ]
  },
  {
   "cell_type": "markdown",
   "metadata": {},
   "source": [
    "So you can pick states according to the newest (last) model. (This will be moved to the Brain). And since we want trajectories with these frames as starting points there is also a function for that"
   ]
  },
  {
   "cell_type": "code",
   "execution_count": 56,
   "metadata": {
    "collapsed": false
   },
   "outputs": [
    {
     "data": {
      "text/plain": [
       "[Trajectory(Frame(sandbox:///{}/00000000/[10]) >> [0..100]),\n",
       " Trajectory(Frame(sandbox:///{}/00000003/[50]) >> [0..100]),\n",
       " Trajectory(Frame(sandbox:///{}/00000000/[10]) >> [0..100]),\n",
       " Trajectory(Frame(sandbox:///{}/00000003/[20]) >> [0..100])]"
      ]
     },
     "execution_count": 56,
     "metadata": {},
     "output_type": "execute_result"
    }
   ],
   "source": [
    "trajectories = project.new_ml_trajectory(length=100, number=4, engine=engine)\n",
    "trajectories"
   ]
  },
  {
   "cell_type": "markdown",
   "metadata": {},
   "source": [
    "Let's submit these before we finish this notebook with a quick discussion of workers"
   ]
  },
  {
   "cell_type": "code",
   "execution_count": 57,
   "metadata": {
    "collapsed": false
   },
   "outputs": [],
   "source": [
    "project.queue(trajectories)"
   ]
  },
  {
   "cell_type": "markdown",
   "metadata": {},
   "source": [
    "That's it."
   ]
  },
  {
   "cell_type": "markdown",
   "metadata": {},
   "source": [
    "### The `Worker` objects"
   ]
  },
  {
   "cell_type": "markdown",
   "metadata": {},
   "source": [
    "Worker are the instances that execute tasks for you. If you did not stop the worker in the command line it will still be running and you can check its state"
   ]
  },
  {
   "cell_type": "code",
   "execution_count": 59,
   "metadata": {
    "collapsed": false
   },
   "outputs": [
    {
     "name": "stdout",
     "output_type": "stream",
     "text": [
      "[running:16:01:47] Stevie.fritz.box:/Users/jan-hendrikprinz/Studium/git/adaptivemd\n"
     ]
    }
   ],
   "source": [
    "project.trigger()\n",
    "for w in project.workers:\n",
    "    if w.state == 'running':\n",
    "        print '[%s:%s] %s:%s' % (w.state, DT(w.seen).time, w.hostname, w.cwd)"
   ]
  },
  {
   "cell_type": "markdown",
   "metadata": {},
   "source": [
    "Okay, the worker is running, was last reporting its heartbeat at ... and has a hostname and current working directory (where it was executed from). The generators specify which tasks from some generators are executed. If it is `None` then the worker runs all tasks it finds. You can use this to run specific workers for models and some for trajectory generation."
   ]
  },
  {
   "cell_type": "markdown",
   "metadata": {},
   "source": [
    "You can also control it remotely by sending it a command. `shutdown` will shut it down for you."
   ]
  },
  {
   "cell_type": "code",
   "execution_count": 77,
   "metadata": {
    "collapsed": true
   },
   "outputs": [],
   "source": [
    "# project.workers.last.command = 'shutdown'"
   ]
  },
  {
   "cell_type": "markdown",
   "metadata": {},
   "source": [
    "Afterwards you need to restart you worker to continue with this examples."
   ]
  },
  {
   "cell_type": "markdown",
   "metadata": {},
   "source": [
    "If you want to control `Worker` objects look at the documentation."
   ]
  },
  {
   "cell_type": "code",
   "execution_count": 101,
   "metadata": {
    "collapsed": true
   },
   "outputs": [],
   "source": [
    "project.close()"
   ]
  },
  {
   "cell_type": "code",
   "execution_count": null,
   "metadata": {
    "collapsed": true
   },
   "outputs": [],
   "source": [
    ""
   ]
  }
 ],
 "metadata": {
  "anaconda-cloud": {},
  "kernelspec": {
   "display_name": "Python [default]",
   "language": "python",
   "name": "python2"
  },
  "language_info": {
   "codemirror_mode": {
    "name": "ipython",
    "version": 2.0
   },
   "file_extension": ".py",
   "mimetype": "text/x-python",
   "name": "python",
   "nbconvert_exporter": "python",
   "pygments_lexer": "ipython2",
   "version": "2.7.13"
  }
 },
 "nbformat": 4,
 "nbformat_minor": 0
}